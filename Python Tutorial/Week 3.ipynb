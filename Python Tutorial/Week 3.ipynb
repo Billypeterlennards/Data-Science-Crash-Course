{
 "cells": [
  {
   "cell_type": "markdown",
   "metadata": {},
   "source": [
    "<h1><center>Zambia In AI Data Science Course</center></h1>\n",
    "<h2><center>Python for Data Science</center></h2>\n",
    "<center>Compiled By Yasin Musa Ayami, Joseph Kachiliko, Eddie</center>"
   ]
  },
  {
   "cell_type": "markdown",
   "metadata": {},
   "source": [
    "<h2>Topics to be Covered</h2>\n",
    "\n",
    "In this tutorial, we will cover:\n",
    "<ul>\n",
    "    <li>Conditional Operators (if, if-else)</li>\n",
    "    <li>Loop Statements (for,while )</li>\n",
    "    <li>Control Statements (Pass,Break,continue)</li>\n",
    "</ul>"
   ]
  },
  {
   "cell_type": "markdown",
   "metadata": {},
   "source": [
    "## Conditional Operators\n",
    "\n",
    "- Decision making is anticipation of conditions occurring while execution of the program and specifying actions taken according to the conditions.\n",
    "\n",
    "- Decision structures evaluate multiple expressions which produce TRUE or FALSE as outcome. You need to determine which action to take and which statements to execute if outcome is TRUE or FALSE otherwise."
   ]
  },
  {
   "cell_type": "markdown",
   "metadata": {},
   "source": [
    "<h4> if, else, elif Statements </h4>"
   ]
  },
  {
   "cell_type": "code",
   "execution_count": 1,
   "metadata": {},
   "outputs": [
    {
     "name": "stdout",
     "output_type": "stream",
     "text": [
      "I am allowed!!!\n",
      "I am not allowed!!!\n",
      "Number is Eight\n",
      "\n",
      "\n"
     ]
    }
   ],
   "source": [
    "count = 8\n",
    "if count == 10:\n",
    "    print(\"Number is Ten\")\n",
    "    \n",
    "is_allowed = True\n",
    "if is_allowed:\n",
    "    print(\"I am allowed!!!\")\n",
    "    \n",
    "is_allowed = False\n",
    "if is_allowed:\n",
    "    print(\"I am allowed!!!\")\n",
    "else:\n",
    "    print(\"I am not allowed!!!\")\n",
    "    \n",
    "if count == 10:\n",
    "    print(\"Number is Ten\")\n",
    "elif count == 8:\n",
    "    print(\"Number is Eight\")\n",
    "print('\\n')"
   ]
  },
  {
   "cell_type": "markdown",
   "metadata": {},
   "source": [
    "<h4> Switch statement </h4>"
   ]
  },
  {
   "cell_type": "code",
   "execution_count": 5,
   "metadata": {},
   "outputs": [
    {
     "name": "stdout",
     "output_type": "stream",
     "text": [
      "The Number is Two\n",
      "Nothing\n"
     ]
    }
   ],
   "source": [
    "# No switch-case alternative\n",
    "def switch_example(number):\n",
    "    switcher = {\n",
    "        0: \"The Number is Zero\",\n",
    "        1: \"The Number is One\",\n",
    "        2: \"The Number is Two\",\n",
    "    }\n",
    "    return switcher.get(number, \"Nothing\")\n",
    "\n",
    "number = 2\n",
    "print(switch_example(number))\n",
    "number = 3\n",
    "print(switch_example(number))"
   ]
  },
  {
   "cell_type": "markdown",
   "metadata": {},
   "source": [
    "<h2>Loop Statements</h2>\n",
    "<ul>\n",
    "    <li>for</li>\n",
    "    <li>while</li>\n",
    "</ul>"
   ]
  },
  {
   "cell_type": "markdown",
   "metadata": {},
   "source": [
    "<h3>Loop Statement: for</h3>\n",
    "\n",
    "The for loop in Python is used to iterate over a sequence (like list, tuple, string) or other iterable objects"
   ]
  },
  {
   "cell_type": "code",
   "execution_count": 7,
   "metadata": {},
   "outputs": [
    {
     "name": "stdout",
     "output_type": "stream",
     "text": [
      "[90, 45, 60, 75, 35, 50]\n",
      "90\n",
      "45\n",
      "60\n",
      "75\n",
      "35\n",
      "50\n"
     ]
    }
   ],
   "source": [
    "marks_list = list([90, 45, 60, 75, 35, 50])\n",
    "print(marks_list)\n",
    "\n",
    "for mark in marks_list:\n",
    "    print(mark)"
   ]
  },
  {
   "cell_type": "markdown",
   "metadata": {},
   "source": [
    "<h3>Loop Statement: while</h3>\n",
    "    \n",
    "The while loop in Python is used to iterate over a block of code as long as the given expression (condition) is true.\n"
   ]
  },
  {
   "cell_type": "code",
   "execution_count": 8,
   "metadata": {},
   "outputs": [
    {
     "name": "stdout",
     "output_type": "stream",
     "text": [
      "1\n",
      "2\n",
      "3\n",
      "4\n",
      "5\n",
      "6\n",
      "7\n",
      "8\n",
      "9\n",
      "10\n"
     ]
    }
   ],
   "source": [
    "count = 0\n",
    "\n",
    "while count < 10:\n",
    "    count = count + 1\n",
    "    print(count)"
   ]
  },
  {
   "cell_type": "markdown",
   "metadata": {},
   "source": [
    "<h2>Control Statements</h2>\n",
    "<ul>\n",
    "    <li>break</li>\n",
    "    <li>continue</li>\n",
    "    <li>pass</li>\n",
    "</ul>"
   ]
  },
  {
   "cell_type": "markdown",
   "metadata": {},
   "source": [
    "<h3>Break</h3>\n",
    "\n",
    "In Python, break and continue statements can alter the flow of a normal loop.\n",
    "\n",
    "Loops iterate over a block of code until test expression is false, but sometimes we wish to terminate the current iteration or even the whole loop without checking test expression.\n",
    "\n",
    "The break and continue statements are used in these cases."
   ]
  },
  {
   "cell_type": "code",
   "execution_count": 12,
   "metadata": {},
   "outputs": [
    {
     "name": "stdout",
     "output_type": "stream",
     "text": [
      "0\n",
      "1\n",
      "2\n",
      "3\n",
      "\n",
      "\n"
     ]
    }
   ],
   "source": [
    "for i in range(10):\n",
    "    print(i)\n",
    "    if i == 3:\n",
    "        break\n",
    "\n",
    "print('\\n')"
   ]
  },
  {
   "cell_type": "markdown",
   "metadata": {},
   "source": [
    "<h3>Continue</h3>\n",
    "\n",
    "The continue statement is used to skip the rest of the code inside a loop for the current iteration only. Loop does not terminate but continues on with the next iteration."
   ]
  },
  {
   "cell_type": "code",
   "execution_count": 14,
   "metadata": {},
   "outputs": [
    {
     "name": "stdout",
     "output_type": "stream",
     "text": [
      "Skipping to current iteration\n",
      "Number is 2 Even\n",
      "2\n",
      "Skipping to current iteration\n",
      "Number is 4 Even\n",
      "4\n",
      "Skipping to current iteration\n",
      "Number is 6 Even\n",
      "6\n",
      "Skipping to current iteration\n",
      "Number is 8 Even\n",
      "8\n",
      "Skipping to current iteration\n",
      "Number is 10 Even\n",
      "10\n"
     ]
    }
   ],
   "source": [
    "for i in range(1, 11):\n",
    "    if i % 2 == 0:\n",
    "        print(\"Number is \" + str(i) + \" Even\")\n",
    "    else:\n",
    "        print(\"Skipping to current iteration\")\n",
    "        continue\n",
    "    print(i)"
   ]
  },
  {
   "cell_type": "markdown",
   "metadata": {},
   "source": [
    "<h3>Pass</h3>\n",
    "\n",
    "In Python programming, pass is a null statement. The difference between a comment and pass statement in Python is that, while the interpreter ignores a comment entirely, pass is not ignored."
   ]
  },
  {
   "cell_type": "code",
   "execution_count": 16,
   "metadata": {},
   "outputs": [],
   "source": [
    "number = 10\n",
    "if number == 10:\n",
    "    pass"
   ]
  },
  {
   "cell_type": "markdown",
   "metadata": {},
   "source": [
    "## References\n",
    "\n",
    "https://www.tutorialspoint.com/python/python_decision_making.htm\n",
    "\n",
    "https://www.programiz.com/python-programming/break-continue"
   ]
  },
  {
   "cell_type": "code",
   "execution_count": null,
   "metadata": {},
   "outputs": [],
   "source": []
  }
 ],
 "metadata": {
  "kernelspec": {
   "display_name": "Python 2",
   "language": "python",
   "name": "python2"
  },
  "language_info": {
   "codemirror_mode": {
    "name": "ipython",
    "version": 2
   },
   "file_extension": ".py",
   "mimetype": "text/x-python",
   "name": "python",
   "nbconvert_exporter": "python",
   "pygments_lexer": "ipython2",
   "version": "2.7.15"
  }
 },
 "nbformat": 4,
 "nbformat_minor": 2
}
