{
 "cells": [
  {
   "cell_type": "markdown",
   "metadata": {},
   "source": [
    "## Python Programming Language"
   ]
  },
  {
   "cell_type": "markdown",
   "metadata": {},
   "source": [
    "<ul>\n",
    "<li>\n",
    "Python is an general-purpose, interpreted, high-level programming language\n",
    "</li>\n",
    "<li>\n",
    "Python has support for Object-Oriented Programming (OOP)\n",
    "</li>\n",
    "<li>\n",
    "Python has many packages/libraries used for developing Machine Learning, Deep Learning, Artificial Intelligence application\n",
    "</li>\n",
    "</ul>"
   ]
  },
  {
   "cell_type": "markdown",
   "metadata": {},
   "source": [
    "<ul>\n",
    "<li>\n",
    "Artificial Intelligence: Programs with the ability to learn and reason like humans i.e. Robotics works with AI\n",
    "</li>\n",
    "<li>\n",
    "Machine Learning: Algorithms with the ability to learn without being explicitly programmed\n",
    "</li>\n",
    "<li>\n",
    "Deep Learning: Subset of machine learning in which artificial neural networks adapt and learn from vast amounts of data\n",
    "</li>\n",
    "</ul>"
   ]
  },
  {
   "cell_type": "markdown",
   "metadata": {},
   "source": [
    "<h3>First thing I want to learn in Python is function called \"print\"</h3>"
   ]
  },
  {
   "cell_type": "code",
   "execution_count": 1,
   "metadata": {},
   "outputs": [
    {
     "name": "stdout",
     "output_type": "stream",
     "text": [
      "Welcome to Python World!!!\n"
     ]
    }
   ],
   "source": [
    "print(\"Welcome to Python World!!!\")"
   ]
  },
  {
   "cell_type": "markdown",
   "metadata": {},
   "source": [
    "<h3>What is variable?</h3>"
   ]
  },
  {
   "cell_type": "code",
   "execution_count": 2,
   "metadata": {},
   "outputs": [
    {
     "name": "stdout",
     "output_type": "stream",
     "text": [
      "Chennai\n"
     ]
    }
   ],
   "source": [
    "city_name = \"Chennai\"\n",
    "\n",
    "print(city_name)"
   ]
  },
  {
   "cell_type": "markdown",
   "metadata": {},
   "source": [
    "<h3>Two important functions one should know in Python</h3>\n",
    "<ul>\n",
    "    <li>type</li>\n",
    "    <li>dir</li>\n",
    "</ul>"
   ]
  },
  {
   "cell_type": "code",
   "execution_count": 3,
   "metadata": {},
   "outputs": [
    {
     "name": "stdout",
     "output_type": "stream",
     "text": [
      "<type 'str'>\n",
      "\n",
      "\n",
      "['__add__', '__class__', '__contains__', '__delattr__', '__doc__', '__eq__', '__format__', '__ge__', '__getattribute__', '__getitem__', '__getnewargs__', '__getslice__', '__gt__', '__hash__', '__init__', '__le__', '__len__', '__lt__', '__mod__', '__mul__', '__ne__', '__new__', '__reduce__', '__reduce_ex__', '__repr__', '__rmod__', '__rmul__', '__setattr__', '__sizeof__', '__str__', '__subclasshook__', '_formatter_field_name_split', '_formatter_parser', 'capitalize', 'center', 'count', 'decode', 'encode', 'endswith', 'expandtabs', 'find', 'format', 'index', 'isalnum', 'isalpha', 'isdigit', 'islower', 'isspace', 'istitle', 'isupper', 'join', 'ljust', 'lower', 'lstrip', 'partition', 'replace', 'rfind', 'rindex', 'rjust', 'rpartition', 'rsplit', 'rstrip', 'split', 'splitlines', 'startswith', 'strip', 'swapcase', 'title', 'translate', 'upper', 'zfill']\n"
     ]
    }
   ],
   "source": [
    "print(type(city_name))\n",
    "\n",
    "print(\"\\n\")\n",
    "\n",
    "print(dir(city_name))"
   ]
  },
  {
   "cell_type": "markdown",
   "metadata": {},
   "source": [
    "<h3>Data Types</h3>\n",
    "<ul>\n",
    "    <li>Numeric</li>\n",
    "    <ul>\n",
    "        <li>int</li>\n",
    "        <li>float</li>\n",
    "        <li>long</li>\n",
    "        <li>complex</li>\n",
    "    </ul>\n",
    "    <li>String</li>\n",
    "    <li>Boolean</li>\n",
    "    <ul>\n",
    "        <li>True</li>\n",
    "        <li>False</li>\n",
    "    </ul>\n",
    "</ul>"
   ]
  },
  {
   "cell_type": "markdown",
   "metadata": {},
   "source": [
    "<h3>Data Type: Numeric</h3>"
   ]
  },
  {
   "cell_type": "code",
   "execution_count": 4,
   "metadata": {},
   "outputs": [
    {
     "name": "stdout",
     "output_type": "stream",
     "text": [
      "5\n",
      "<type 'int'>\n",
      "\n",
      "\n",
      "12.5\n",
      "<type 'float'>\n",
      "\n",
      "\n",
      "150\n",
      "<type 'long'>\n",
      "\n",
      "\n",
      "(5+4j)\n",
      "<type 'complex'>\n",
      "(8+4j)\n"
     ]
    }
   ],
   "source": [
    "# Plain integers are just positive or negative whole numbers\n",
    "order_quantity = 5\n",
    "print(order_quantity)\n",
    "print(type(order_quantity))\n",
    "\n",
    "print(\"\\n\")\n",
    "\n",
    "# The float type in Python represents a floating-point number. float values are specified with a decimal point\n",
    "product_unit_price = 12.50\n",
    "print(product_unit_price)\n",
    "print(type(product_unit_price))\n",
    "\n",
    "print(\"\\n\")\n",
    "\n",
    "# Long integers, they can also be represented in octal and hexadecimal\n",
    "y = 150L\n",
    "print(y)\n",
    "print(type(y))\n",
    "\n",
    "print(\"\\n\")\n",
    "\n",
    "# Complex numbers are specified as <real part>+<imaginary part>j\n",
    "x = 5 + 4j\n",
    "print(x)\n",
    "print(type(x))\n",
    "print(x + 3)"
   ]
  },
  {
   "cell_type": "markdown",
   "metadata": {},
   "source": [
    "<h3>Data Type: String</h3>"
   ]
  },
  {
   "cell_type": "code",
   "execution_count": 5,
   "metadata": {},
   "outputs": [
    {
     "name": "stdout",
     "output_type": "stream",
     "text": [
      "Arun\n",
      "<type 'str'>\n",
      "Arun Vijay\n",
      "<type 'str'>\n"
     ]
    }
   ],
   "source": [
    "# Strings are sequences of character data\n",
    "\n",
    "person_first_name = \"Arun\"\n",
    "print(person_first_name)\n",
    "print(type(person_first_name))\n",
    "\n",
    "person_last_name = \"Vijay\"\n",
    "\n",
    "person_full_name = person_first_name + \" \" + person_last_name\n",
    "print(person_full_name)\n",
    "print(type(person_full_name))"
   ]
  },
  {
   "cell_type": "markdown",
   "metadata": {},
   "source": [
    "<h3>Data Type: Boolean</h3>"
   ]
  },
  {
   "cell_type": "code",
   "execution_count": 6,
   "metadata": {},
   "outputs": [
    {
     "name": "stdout",
     "output_type": "stream",
     "text": [
      "True\n",
      "<type 'bool'>\n",
      "\n",
      "\n",
      "False\n",
      "<type 'bool'>\n",
      "\n",
      "\n",
      "True\n",
      "<type 'bool'>\n"
     ]
    }
   ],
   "source": [
    "# Objects of Boolean type may have one of two values, True or False\n",
    "\n",
    "print(True)\n",
    "print(type(True))\n",
    "\n",
    "print(\"\\n\")\n",
    "\n",
    "print(False)\n",
    "print(type(False))\n",
    "\n",
    "print(\"\\n\")\n",
    "\n",
    "is_run_flag = True\n",
    "print(is_run_flag)\n",
    "print(type(is_run_flag))"
   ]
  },
  {
   "cell_type": "markdown",
   "metadata": {},
   "source": [
    "<h3>Data Structures or Data Types</h3>\n",
    "<ul>\n",
    "    <li>list</li>\n",
    "    <li>tuple</li>\n",
    "    <li>dictionary</li>\n",
    "    <li>set</li>\n",
    "</ul>"
   ]
  },
  {
   "cell_type": "markdown",
   "metadata": {},
   "source": [
    "<h3>Data Structure: list</h3>"
   ]
  },
  {
   "cell_type": "code",
   "execution_count": 7,
   "metadata": {},
   "outputs": [
    {
     "name": "stdout",
     "output_type": "stream",
     "text": [
      "[1, 5, 2, 4, 7, 3, 6, 6]\n",
      "\n",
      "\n",
      "['Arun', 'Arvind', 'Vijay', 'John']\n",
      "\n",
      "\n",
      "[2, 'Arun', 4, 'Arvind', 1, 'Vijay', [3, 6, 9], 'John']\n",
      "<type 'list'>\n"
     ]
    }
   ],
   "source": [
    "# Lists are ordered collections of typed objects and can be of any length\n",
    "# List is mutable, can be modified\n",
    "# List can contain mixed data types\n",
    "# List is defined by using brackets []\n",
    "\n",
    "numbers_list = [1, 5, 2, 4, 7, 3, 6, 6]\n",
    "print(numbers_list)\n",
    "\n",
    "print('\\n')\n",
    "\n",
    "names_list = [\"Arun\", \"Arvind\", \"Vijay\", \"John\"]\n",
    "print(names_list)\n",
    "\n",
    "print('\\n')\n",
    "\n",
    "all_list = [2, \"Arun\", 4, \"Arvind\", 1, \"Vijay\", [3, 6, 9], \"John\"]\n",
    "print(all_list)\n",
    "print(type(all_list))"
   ]
  },
  {
   "cell_type": "code",
   "execution_count": 8,
   "metadata": {},
   "outputs": [
    {
     "name": "stdout",
     "output_type": "stream",
     "text": [
      "[]\n",
      "\n",
      "\n",
      "[80]\n",
      "\n",
      "\n",
      "[80, 50]\n",
      "\n",
      "\n",
      "[80, 50, 35]\n",
      "\n",
      "\n",
      "[80, 75, 50, 35]\n",
      "\n",
      "\n",
      "[80, 75, 35]\n"
     ]
    }
   ],
   "source": [
    "marks_list = []\n",
    "\n",
    "print(marks_list)\n",
    "print('\\n')\n",
    "# append function will append element in the last position of the list\n",
    "marks_list.append(80)\n",
    "print(marks_list)\n",
    "print('\\n')\n",
    "marks_list.append(50)\n",
    "print(marks_list)\n",
    "print('\\n')\n",
    "marks_list.append(35)\n",
    "print(marks_list)\n",
    "print('\\n')\n",
    "\n",
    "# insert function will add element in the position/index in the list\n",
    "marks_list.insert(1, 75)\n",
    "print(marks_list)\n",
    "print('\\n')\n",
    "marks_list.remove(50)\n",
    "print(marks_list)\n",
    "# remove function will remove element from the list\n"
   ]
  },
  {
   "cell_type": "markdown",
   "metadata": {},
   "source": [
    "<h3>Data Structure: tuple</h3>"
   ]
  },
  {
   "cell_type": "code",
   "execution_count": 9,
   "metadata": {},
   "outputs": [
    {
     "name": "stdout",
     "output_type": "stream",
     "text": [
      "(1, 5, 10)\n",
      "\n",
      "\n",
      "(1, 'All', 2)\n",
      "\n",
      "\n",
      "2\n",
      "\n",
      "\n",
      "1\n",
      "\n",
      "\n",
      "(1, 'All', 2)\n",
      "\n",
      "\n",
      "True\n"
     ]
    }
   ],
   "source": [
    "# Tuples are a group of values\n",
    "# Tuple is immutable, can't be changed/modified\n",
    "# Tuples are defined by using parenthesis ()\n",
    "\n",
    "numbers_tuple = (1, 5, 10)\n",
    "print(numbers_tuple)\n",
    "\n",
    "print('\\n')\n",
    "\n",
    "all_tuple = (1, 'All', 2)\n",
    "print(all_tuple)\n",
    "\n",
    "print('\\n')\n",
    "print(all_tuple[-1])\n",
    "\n",
    "print('\\n')\n",
    "print(all_tuple[0])\n",
    "\n",
    "print('\\n')\n",
    "print(all_tuple[0:])\n",
    "\n",
    "print('\\n')\n",
    "print('All' in all_tuple)"
   ]
  },
  {
   "cell_type": "markdown",
   "metadata": {},
   "source": [
    "<h3>Data Structure: dictionary</h3>"
   ]
  },
  {
   "cell_type": "code",
   "execution_count": 10,
   "metadata": {},
   "outputs": [
    {
     "name": "stdout",
     "output_type": "stream",
     "text": [
      "{'Gender': 'Male', 'Id': 101, 'Is_Employed': True, 'Name': 'Prabhu'}\n",
      "\n",
      "\n",
      "{1: 'Apple', 2: 'Orange', 3: 'Grapes'}\n",
      "\n",
      "\n",
      "{1: 'Apple', 3: 'Grapes'}\n",
      "\n",
      "\n",
      "{1: 'Apple', 2: 'Pomegranate', 3: 'Grapes', 4: 'Mangoes'}\n",
      "\n",
      "\n",
      "['__class__', '__cmp__', '__contains__', '__delattr__', '__delitem__', '__doc__', '__eq__', '__format__', '__ge__', '__getattribute__', '__getitem__', '__gt__', '__hash__', '__init__', '__iter__', '__le__', '__len__', '__lt__', '__ne__', '__new__', '__reduce__', '__reduce_ex__', '__repr__', '__setattr__', '__setitem__', '__sizeof__', '__str__', '__subclasshook__', 'clear', 'copy', 'fromkeys', 'get', 'has_key', 'items', 'iteritems', 'iterkeys', 'itervalues', 'keys', 'pop', 'popitem', 'setdefault', 'update', 'values', 'viewitems', 'viewkeys', 'viewvalues']\n",
      "\n",
      "\n",
      "{2: 'Pomegranate', 3: 'Grapes', 4: 'Mangoes'}\n"
     ]
    }
   ],
   "source": [
    "# Dictionaries in Python are lists of Key:Value pairs\n",
    "# In Dictionary we can store lot of related information that can be associated through keys\n",
    "# Dictionaries are created by using braces ({}) with pairs separated by a comma (,) and \n",
    "# the key values associated with a colon(:)\n",
    "# In Dictionaries the Key must be unique\n",
    "\n",
    "person_d = {\"Id\": 101, \"Name\": \"Prabhu\", \"Gender\": \"Male\", \"Is_Employed\": True}\n",
    "print(person_d)\n",
    "\n",
    "print('\\n')\n",
    "\n",
    "fruits_d = {}\n",
    "fruits_d[1] = 'Apple'\n",
    "fruits_d[2] = 'Orange'\n",
    "fruits_d[3] = 'Grapes'\n",
    "print(fruits_d)\n",
    "print('\\n')\n",
    "del fruits_d[2]\n",
    "print(fruits_d)\n",
    "print('\\n')\n",
    "fruits_d[2] = 'Pomegranate'\n",
    "fruits_d[4] = 'Mangoes'\n",
    "print(fruits_d)\n",
    "print('\\n')\n",
    "print(dir(fruits_d))\n",
    "print('\\n')\n",
    "fruits_d.pop(1)\n",
    "print(fruits_d)"
   ]
  },
  {
   "cell_type": "markdown",
   "metadata": {},
   "source": [
    "<h3>Data Structure: set</h3>"
   ]
  },
  {
   "cell_type": "code",
   "execution_count": 11,
   "metadata": {},
   "outputs": [
    {
     "name": "stdout",
     "output_type": "stream",
     "text": [
      "set([1, 2, 3, 4, 5, 6, 7])\n",
      "\n",
      "\n",
      "['__and__', '__class__', '__cmp__', '__contains__', '__delattr__', '__doc__', '__eq__', '__format__', '__ge__', '__getattribute__', '__gt__', '__hash__', '__iand__', '__init__', '__ior__', '__isub__', '__iter__', '__ixor__', '__le__', '__len__', '__lt__', '__ne__', '__new__', '__or__', '__rand__', '__reduce__', '__reduce_ex__', '__repr__', '__ror__', '__rsub__', '__rxor__', '__setattr__', '__sizeof__', '__str__', '__sub__', '__subclasshook__', '__xor__', 'add', 'clear', 'copy', 'difference', 'difference_update', 'discard', 'intersection', 'intersection_update', 'isdisjoint', 'issubset', 'issuperset', 'pop', 'remove', 'symmetric_difference', 'symmetric_difference_update', 'union', 'update']\n",
      "\n",
      "\n",
      "set([1, 2, 3, 4, 5, 6, 7, 8])\n",
      "\n",
      "\n",
      "None\n",
      "set([1, 2, 3, 4, 5, 6, 8])\n",
      "\n",
      "\n"
     ]
    }
   ],
   "source": [
    "# Set is an unordered collection of unique items\n",
    "# Set is defined by values separated by comma inside braces { }\n",
    "\n",
    "numbers_set = {1, 5, 2, 4, 7, 3, 6, 6}\n",
    "print(numbers_set)\n",
    "\n",
    "print('\\n')\n",
    "\n",
    "print(dir(numbers_set))\n",
    "print('\\n')\n",
    "numbers_set.add(8)\n",
    "print(numbers_set)\n",
    "\n",
    "print('\\n')\n",
    "print(numbers_set.remove(7))\n",
    "print(numbers_set)\n",
    "print('\\n')"
   ]
  },
  {
   "cell_type": "markdown",
   "metadata": {},
   "source": [
    "<h3>if, else, elif Statements and switch-case alternative</h3>"
   ]
  },
  {
   "cell_type": "code",
   "execution_count": 12,
   "metadata": {},
   "outputs": [
    {
     "name": "stdout",
     "output_type": "stream",
     "text": [
      "I am allowed!!!\n",
      "I am not allowed!!!\n",
      "Number is Eight\n",
      "\n",
      "\n",
      "The Number is Two\n",
      "Nothing\n"
     ]
    }
   ],
   "source": [
    "count = 8\n",
    "if count == 10:\n",
    "    print(\"Number is Ten\")\n",
    "    \n",
    "is_allowed = True\n",
    "if is_allowed:\n",
    "    print(\"I am allowed!!!\")\n",
    "    \n",
    "is_allowed = False\n",
    "if is_allowed:\n",
    "    print(\"I am allowed!!!\")\n",
    "else:\n",
    "    print(\"I am not allowed!!!\")\n",
    "    \n",
    "if count == 10:\n",
    "    print(\"Number is Ten\")\n",
    "elif count == 8:\n",
    "    print(\"Number is Eight\")\n",
    "print('\\n')\n",
    "\n",
    "# No switch-case alternative\n",
    "def switch_example(number):\n",
    "    switcher = {\n",
    "        0: \"The Number is Zero\",\n",
    "        1: \"The Number is One\",\n",
    "        2: \"The Number is Two\",\n",
    "    }\n",
    "    return switcher.get(number, \"Nothing\")\n",
    "\n",
    "number = 2\n",
    "print(switch_example(number))\n",
    "number = 3\n",
    "print(switch_example(number))"
   ]
  },
  {
   "cell_type": "markdown",
   "metadata": {},
   "source": [
    "<h3>Loop Statements</h3>\n",
    "<ul>\n",
    "    <li>for</li>\n",
    "    <li>while</li>\n",
    "</ul>"
   ]
  },
  {
   "cell_type": "markdown",
   "metadata": {},
   "source": [
    "<h3>Loop Statement: for</h3>"
   ]
  },
  {
   "cell_type": "code",
   "execution_count": 13,
   "metadata": {},
   "outputs": [
    {
     "name": "stdout",
     "output_type": "stream",
     "text": [
      "[90, 45, 60, 75, 35, 50]\n",
      "90\n",
      "45\n",
      "60\n",
      "75\n",
      "35\n",
      "50\n"
     ]
    }
   ],
   "source": [
    "# The for loop in Python is used to iterate over a sequence (like list, tuple, string) or other iterable objects\n",
    "\n",
    "marks_list = list([90, 45, 60, 75, 35, 50])\n",
    "print(marks_list)\n",
    "\n",
    "for mark in marks_list:\n",
    "    print(mark)"
   ]
  },
  {
   "cell_type": "markdown",
   "metadata": {},
   "source": [
    "<h3>Loop Statement: while</h3>"
   ]
  },
  {
   "cell_type": "code",
   "execution_count": 14,
   "metadata": {},
   "outputs": [
    {
     "name": "stdout",
     "output_type": "stream",
     "text": [
      "1\n",
      "2\n",
      "3\n",
      "4\n",
      "5\n",
      "6\n",
      "7\n",
      "8\n",
      "9\n",
      "10\n"
     ]
    }
   ],
   "source": [
    "# The while loop in Python is used to iterate over a block of code as long as the given expression (condition) is true.\n",
    "\n",
    "count = 0\n",
    "\n",
    "while count < 10:\n",
    "    count = count + 1\n",
    "    print(count)"
   ]
  },
  {
   "cell_type": "markdown",
   "metadata": {},
   "source": [
    "<h3>Control Statements</h3>\n",
    "<ul>\n",
    "    <li>break</li>\n",
    "    <li>continue</li>\n",
    "    <li>pass</li>\n",
    "</ul>"
   ]
  },
  {
   "cell_type": "code",
   "execution_count": 15,
   "metadata": {},
   "outputs": [
    {
     "name": "stdout",
     "output_type": "stream",
     "text": [
      "0\n",
      "1\n",
      "2\n",
      "3\n",
      "\n",
      "\n",
      "Skipping to current iteration\n",
      "Number is 2 Even\n",
      "2\n",
      "Skipping to current iteration\n",
      "Number is 4 Even\n",
      "4\n",
      "Skipping to current iteration\n",
      "Number is 6 Even\n",
      "6\n",
      "Skipping to current iteration\n",
      "Number is 8 Even\n",
      "8\n",
      "Skipping to current iteration\n",
      "Number is 10 Even\n",
      "10\n"
     ]
    }
   ],
   "source": [
    "# break\n",
    "for i in range(10):\n",
    "    print(i)\n",
    "    if i == 3:\n",
    "        break\n",
    "\n",
    "print('\\n')\n",
    "\n",
    "# continue\n",
    "for i in range(1, 11):\n",
    "    if i % 2 == 0:\n",
    "        print(\"Number is \" + str(i) + \" Even\")\n",
    "    else:\n",
    "        print(\"Skipping to current iteration\")\n",
    "        continue\n",
    "    print(i)\n",
    "   \n",
    "# pass\n",
    "number = 10\n",
    "if number == 10:\n",
    "    pass"
   ]
  },
  {
   "cell_type": "markdown",
   "metadata": {},
   "source": [
    "<h3>Functions</h3>\n",
    "<ul>\n",
    "    <li>Built-in Functions</li>\n",
    "    <li>User Defined Functions</li>\n",
    "</ul>"
   ]
  },
  {
   "cell_type": "code",
   "execution_count": 16,
   "metadata": {},
   "outputs": [
    {
     "name": "stdout",
     "output_type": "stream",
     "text": [
      "[5, 2, 3, 1, 4]\n",
      "5\n",
      "1\n",
      "5\n",
      "15\n",
      "<type 'int'>\n",
      "<type 'str'>\n"
     ]
    }
   ],
   "source": [
    "# Built-in Functions\n",
    "numbers_list = [5, 2, 3, 1, 4]\n",
    "print(numbers_list)\n",
    "print(len(numbers_list))\n",
    "print(min(numbers_list))\n",
    "print(max(numbers_list))\n",
    "print(sum(numbers_list))\n",
    "count = 10\n",
    "print(type(count))\n",
    "count_str = str(count)\n",
    "print(type(count_str))"
   ]
  },
  {
   "cell_type": "code",
   "execution_count": 17,
   "metadata": {},
   "outputs": [
    {
     "name": "stdout",
     "output_type": "stream",
     "text": [
      "Hello Python!!!\n",
      "None\n",
      "\n",
      "\n",
      "Python Function!!!\n",
      "None\n",
      "\n",
      "\n",
      "8\n"
     ]
    }
   ],
   "source": [
    "def display():\n",
    "    print(\"Hello Python!!!\")\n",
    "    \n",
    "print(display())\n",
    "print('\\n')\n",
    "\n",
    "def display_message(message):\n",
    "    print(message)\n",
    "\n",
    "print(display_message(\"Python Function!!!\"))\n",
    "print('\\n')\n",
    "\n",
    "def add_numbers(a, b):\n",
    "    c = a + b\n",
    "    return c\n",
    "\n",
    "print(add_numbers(5, 3))"
   ]
  },
  {
   "cell_type": "markdown",
   "metadata": {},
   "source": [
    "<h3>Getting User Input</h3>"
   ]
  },
  {
   "cell_type": "code",
   "execution_count": 18,
   "metadata": {},
   "outputs": [
    {
     "name": "stdout",
     "output_type": "stream",
     "text": [
      "Please enter the amount: 10.5\n",
      "10.5\n",
      "<type 'float'>\n"
     ]
    }
   ],
   "source": [
    "user_input = input(\"Please enter the amount: \")\n",
    "print(user_input)\n",
    "print(type(user_input))"
   ]
  },
  {
   "cell_type": "markdown",
   "metadata": {},
   "source": [
    "<h3>File Handling</h3>\n",
    "<ul>\n",
    "    <li>text file</li>\n",
    "    <li>csv file</li>\n",
    "    <li>json file</li>\n",
    "</ul>"
   ]
  },
  {
   "cell_type": "markdown",
   "metadata": {},
   "source": [
    "<h3>File Handling: text file</h3>"
   ]
  },
  {
   "cell_type": "code",
   "execution_count": 19,
   "metadata": {},
   "outputs": [
    {
     "name": "stdout",
     "output_type": "stream",
     "text": [
      "The Apache Hadoop software library is a framework that allows for the distributed processing of large data sets across clusters of computers using simple programming models. It is designed to scale up from single servers to thousands of machines, each offering local computation and storage. Rather than rely on hardware to deliver high-availability, the library itself is designed to detect and handle failures at the application layer, so delivering a highly-available service on top of a cluster of computers, each of which may be prone to failures.\n"
     ]
    }
   ],
   "source": [
    "# Reading Text File\n",
    "\n",
    "with open('D:\\\\work\\\\development\\\\python\\\\new_video_python\\\\hadoop.txt', 'r') as reader:\n",
    "    for line in reader.readlines():\n",
    "        print(line)"
   ]
  },
  {
   "cell_type": "code",
   "execution_count": 20,
   "metadata": {},
   "outputs": [],
   "source": [
    "# Writing Text File\n",
    "\n",
    "text_file = open('D:\\\\work\\\\development\\\\python\\\\new_video_python\\\\sample_file.txt','w')\n",
    "text_file.write('Programming Python' + '\\n')\n",
    "text_file.write('Programming Scala')\n",
    "text_file.close()"
   ]
  },
  {
   "cell_type": "markdown",
   "metadata": {},
   "source": [
    "<h3>File Handling: csv file</h3>"
   ]
  },
  {
   "cell_type": "code",
   "execution_count": 21,
   "metadata": {},
   "outputs": [
    {
     "name": "stdout",
     "output_type": "stream",
     "text": [
      "['Id', 'Name', 'City']\n",
      "['1', 'John', 'Washington']\n",
      "['2', 'Martin', 'Los Angeles']\n",
      "['3', 'Brad', 'Texas']\n"
     ]
    }
   ],
   "source": [
    "# Reading CSV File\n",
    "# Import required package\n",
    "import csv\n",
    "\n",
    "with open('D:\\\\work\\\\development\\\\python\\\\new_video_python\\\\people.csv', 'r') as csv_file:\n",
    "    reader = csv.reader(csv_file)\n",
    "    for record_line in reader:\n",
    "        print(record_line)\n"
   ]
  },
  {
   "cell_type": "code",
   "execution_count": 22,
   "metadata": {},
   "outputs": [],
   "source": [
    "# Writing CSV File\n",
    "# Import required package\n",
    "import csv\n",
    "\n",
    "with open('D:\\\\work\\\\development\\\\python\\\\new_video_python\\\\people_new.csv', mode='wb') as csv_file:\n",
    "    writer = csv.writer(csv_file, delimiter=',')\n",
    "\n",
    "    #way to write to csv file\n",
    "    writer.writerow(['Id', 'Name', 'City'])\n",
    "    writer.writerow(['1', 'John', 'Washington'])\n",
    "    writer.writerow(['2', 'Martin', 'Los Angeles'])\n",
    "    writer.writerow(['3', 'Brad', 'Texas'])\n"
   ]
  },
  {
   "cell_type": "markdown",
   "metadata": {},
   "source": [
    "<h3>File Handling: json file</h3>"
   ]
  },
  {
   "cell_type": "code",
   "execution_count": 23,
   "metadata": {},
   "outputs": [
    {
     "name": "stdout",
     "output_type": "stream",
     "text": [
      "{u'languages': [u'English', u'French'], u'name': u'Bob'}\n"
     ]
    }
   ],
   "source": [
    "# Reading JSON File\n",
    "# Import required package\n",
    "import json\n",
    "\n",
    "with open('D:\\\\work\\\\development\\\\python\\\\new_video_python\\\\person.json') as json_file:\n",
    "  data = json.load(json_file)\n",
    "\n",
    "print(data)"
   ]
  },
  {
   "cell_type": "code",
   "execution_count": 24,
   "metadata": {},
   "outputs": [],
   "source": [
    "# Writing JSON File\n",
    "# Import required package\n",
    "import json\n",
    "\n",
    "person_dict = {\"name\": \"Bob\",\n",
    "\"languages\": [\"English\", \"French\"],\n",
    "\"married\": True,\n",
    "\"age\": 32\n",
    "}\n",
    "\n",
    "with open('D:\\\\work\\\\development\\\\python\\\\new_video_python\\\\person_new.json', 'w') as json_file:\n",
    "  json.dump(person_dict, json_file)"
   ]
  },
  {
   "cell_type": "markdown",
   "metadata": {},
   "source": [
    "<h3>Object-Oriented Programming (OOP) Support</h3>\n",
    "<ul>\n",
    "    <li>class</li>\n",
    "    <li>object</li>\n",
    "    <li>inheritance</li>\n",
    "</ul>"
   ]
  },
  {
   "cell_type": "markdown",
   "metadata": {},
   "source": [
    "<h3>Object-Oriented Programming: class</h3>"
   ]
  },
  {
   "cell_type": "code",
   "execution_count": 25,
   "metadata": {},
   "outputs": [],
   "source": [
    "# Classes are the foundation of object-oriented programming\n",
    "# Classes represent real-world things you want to model in your programs: for example employees, cars and banks\n",
    "# You use a class to make objects, which are specific instances of employees, cars and banks\n",
    "# A class defines the general behavior that a whole category of objects can have, \n",
    "# and the information that can be associated with those objects\n",
    "\n",
    "class User:\n",
    "    name = \"\"\n",
    "    \n",
    "    # This special function is called Constructor\n",
    "    def __init__(self, name):\n",
    "        self.name = name\n",
    "\n",
    "    def printName(self):\n",
    "        print(\"Name  = \" + self.name)"
   ]
  },
  {
   "cell_type": "markdown",
   "metadata": {},
   "source": [
    "<h3>Object-Oriented Programming: object</h3>"
   ]
  },
  {
   "cell_type": "code",
   "execution_count": 26,
   "metadata": {},
   "outputs": [
    {
     "name": "stdout",
     "output_type": "stream",
     "text": [
      "Name  = Karthik\n"
     ]
    }
   ],
   "source": [
    "# Instance of the class is called object\n",
    "\n",
    "user_obj = User(\"Karthik\")\n",
    "user_obj.printName()"
   ]
  },
  {
   "cell_type": "markdown",
   "metadata": {},
   "source": [
    "<h3>Object-Oriented Programming: inheritance</h3>"
   ]
  },
  {
   "cell_type": "code",
   "execution_count": 27,
   "metadata": {},
   "outputs": [
    {
     "name": "stdout",
     "output_type": "stream",
     "text": [
      "Name  = Arun\n",
      "Name  = Vijay\n",
      "Programming Python\n"
     ]
    }
   ],
   "source": [
    "# Inheritance is the capability of one class to derive or inherit the properties from some another class\n",
    "# One of the major advantages of Object Oriented Programming is re-use. \n",
    "# Inheritance is one of the mechanisms to achieve the same. \n",
    "# In inheritance, a class (usually called superclass) is inherited by another class (usually called subclass). \n",
    "# The subclass adds some attributes to superclass.\n",
    "\n",
    "# Base class\n",
    "class User:\n",
    "    name = \"\"\n",
    "    \n",
    "    # This special function is called Constructor\n",
    "    def __init__(self, name):\n",
    "        self.name = name\n",
    "\n",
    "    def printName(self):\n",
    "        print(\"Name  = \" + self.name)\n",
    "\n",
    "# Inherited or Sub class (Note User in bracket) \n",
    "class Programmer(User):\n",
    "    # This special function is called Constructor\n",
    "    def __init__(self, name):\n",
    "        self.name = name\n",
    "\n",
    "    def doPython(self):\n",
    "        print(\"Programming Python\")\n",
    "\n",
    "user_obj = User(\"Arun\")\n",
    "user_obj.printName()\n",
    "\n",
    "programmer_obj = Programmer(\"Vijay\")\n",
    "programmer_obj.printName()\n",
    "programmer_obj.doPython()\n"
   ]
  },
  {
   "cell_type": "markdown",
   "metadata": {},
   "source": [
    "<!-- <h3>Exception Handling</h3>\n",
    "<ul>\n",
    "    <li>try</li>\n",
    "    <li>except</li>\n",
    "    <li>throw</li>\n",
    "</ul> -->"
   ]
  },
  {
   "cell_type": "code",
   "execution_count": null,
   "metadata": {},
   "outputs": [],
   "source": []
  }
 ],
 "metadata": {
  "kernelspec": {
   "display_name": "Python 2",
   "language": "python",
   "name": "python2"
  },
  "language_info": {
   "codemirror_mode": {
    "name": "ipython",
    "version": 2
   },
   "file_extension": ".py",
   "mimetype": "text/x-python",
   "name": "python",
   "nbconvert_exporter": "python",
   "pygments_lexer": "ipython2",
   "version": "2.7.15"
  }
 },
 "nbformat": 4,
 "nbformat_minor": 2
}
